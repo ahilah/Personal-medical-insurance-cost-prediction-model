{
 "cells": [
  {
   "cell_type": "markdown",
   "metadata": {},
   "source": [
    "### This code demonstrates a creating dict for categorical features (encoding) in machine learning:\n",
    "1. The code starts by importing the pickle module, which is used for serializing and deserializing Python objects.\n",
    "2. A dictionary named data is defined, containing mappings for categorical variables such as 'sex', 'smoker', and 'region'. Each categorical variable is mapped to numerical values.\n",
    "3. The data dictionary is then serialized and stored in a binary file named param_dict.pickle using the pickle.dump() function.\n",
    "4. The file path for the stored data is defined as file_path.\n",
    "5. The stored data is then read back from the file using the pickle.load() function, and it's assigned to the variable param_dict.\n",
    "6. Finally, the loaded param_dict is printed to the console, displaying the mappings of categorical variables."
   ]
  },
  {
   "cell_type": "code",
   "execution_count": 2,
   "metadata": {},
   "outputs": [],
   "source": [
    "import pickle"
   ]
  },
  {
   "cell_type": "code",
   "execution_count": 3,
   "metadata": {},
   "outputs": [],
   "source": [
    "# define a dictionary containing mappings for categorical variables\n",
    "data = {\n",
    "    'map_dicts': {\n",
    "        'sex': {\n",
    "            'female': 0,\n",
    "            'male': 1\n",
    "        },\n",
    "        'smoker': {\n",
    "            'no': 0, \n",
    "            'yes': 1\n",
    "        },\n",
    "        'region': {\n",
    "            'northeast': 0,\n",
    "            'northwest': 1,\n",
    "            'southeast': 2,\n",
    "            'southwest': 3\n",
    "        }\n",
    "    }\n",
    "}"
   ]
  },
  {
   "cell_type": "code",
   "execution_count": null,
   "metadata": {},
   "outputs": [],
   "source": [
    "# filepath for dictionary\n",
    "dict_filepath = \"D:/programming/information-technologies-of-smart-systems/calculation-and-graphic work/personal-medical-insurance-cost-prediction/src/param_dict.pickle\""
   ]
  },
  {
   "cell_type": "code",
   "execution_count": null,
   "metadata": {},
   "outputs": [],
   "source": [
    "# save the dictionary containing mappings to a pickle file\n",
    "with open(dict_filepath, \"wb\") as f:\n",
    "    pickle.dump(data, f)"
   ]
  },
  {
   "cell_type": "code",
   "execution_count": 4,
   "metadata": {},
   "outputs": [
    {
     "name": "stdout",
     "output_type": "stream",
     "text": [
      "{'map_dicts': {'sex': {'female': 0, 'male': 1}, 'smoker': {'no': 0, 'yes': 1}, 'region': {'northeast': 0, 'northwest': 1, 'southeast': 2, 'southwest': 3}}}\n"
     ]
    }
   ],
   "source": [
    "# open file to read in binary mode\n",
    "file_path = r\"D:/programming/information-technologies-of-smart-systems/calculation-and-graphic work/personal-medical-insurance-cost-prediction/src/param_dict.pickle\"\n",
    "\n",
    "with open(file_path, 'rb') as file:\n",
    "    # get data from file\n",
    "    param_dict = pickle.load(file)\n",
    "\n",
    "# print data to console\n",
    "print(param_dict)"
   ]
  }
 ],
 "metadata": {
  "kernelspec": {
   "display_name": "Python 3",
   "language": "python",
   "name": "python3"
  },
  "language_info": {
   "codemirror_mode": {
    "name": "ipython",
    "version": 3
   },
   "file_extension": ".py",
   "mimetype": "text/x-python",
   "name": "python",
   "nbconvert_exporter": "python",
   "pygments_lexer": "ipython3",
   "version": "3.11.5"
  }
 },
 "nbformat": 4,
 "nbformat_minor": 2
}
