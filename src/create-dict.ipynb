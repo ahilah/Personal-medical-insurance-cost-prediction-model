{
 "cells": [
  {
   "cell_type": "code",
   "execution_count": 2,
   "metadata": {},
   "outputs": [],
   "source": [
    "import pickle"
   ]
  },
  {
   "cell_type": "code",
   "execution_count": 3,
   "metadata": {},
   "outputs": [],
   "source": [
    "data = {\n",
    "    'map_dicts': {\n",
    "        'sex': {\n",
    "            'female': 0,\n",
    "            'male': 1\n",
    "        },\n",
    "        'smoker': {\n",
    "            'no': 0, \n",
    "            'yes': 1\n",
    "        },\n",
    "        'region': {\n",
    "            'northeast': 0,\n",
    "            'northwest': 1,\n",
    "            'southeast': 2,\n",
    "            'southwest': 3\n",
    "        }\n",
    "    }\n",
    "}\n",
    "\n",
    "\n",
    "\n",
    "with open(\"D:/programming/information-technologies-of-smart-systems/calculation-and-graphic work/personal-medical-insurance-cost-prediction/src/param_dict.pickle\", \"wb\") as f:\n",
    "    pickle.dump(data, f)\n",
    "import pickle"
   ]
  },
  {
   "cell_type": "code",
   "execution_count": 4,
   "metadata": {},
   "outputs": [
    {
     "name": "stdout",
     "output_type": "stream",
     "text": [
      "{'map_dicts': {'sex': {'female': 0, 'male': 1}, 'smoker': {'no': 0, 'yes': 1}, 'region': {'northeast': 0, 'northwest': 1, 'southeast': 2, 'southwest': 3}}}\n"
     ]
    }
   ],
   "source": [
    "# open file to read in binary mode\n",
    "file_path = r\"D:/programming/information-technologies-of-smart-systems/calculation-and-graphic work/personal-medical-insurance-cost-prediction/src/param_dict.pickle\"\n",
    "with open(file_path, 'rb') as file:\n",
    "    # get data from file\n",
    "    param_dict = pickle.load(file)\n",
    "\n",
    "# print data to console\n",
    "print(param_dict)\n"
   ]
  }
 ],
 "metadata": {
  "kernelspec": {
   "display_name": "Python 3",
   "language": "python",
   "name": "python3"
  },
  "language_info": {
   "codemirror_mode": {
    "name": "ipython",
    "version": 3
   },
   "file_extension": ".py",
   "mimetype": "text/x-python",
   "name": "python",
   "nbconvert_exporter": "python",
   "pygments_lexer": "ipython3",
   "version": "3.11.5"
  }
 },
 "nbformat": 4,
 "nbformat_minor": 2
}
