{
 "cells": [
  {
   "cell_type": "markdown",
   "metadata": {},
   "source": [
    "### This code demonstrates a data preprocessing step in machine learning:\n",
    "1. Splitting a dataset into training and testing sets for model evaluation. \n",
    "2. Save the split data into separate CSV files for further analysis or modeling.\n",
    "\n",
    "#### Explanation\n",
    "- Import Libraries. Import pandas for data manipulation and train_test_split from scikit-learn for splitting the dataset.\n",
    "- Define File Paths. Define variables containing the file paths for the dataset, training data, and new data.\n",
    "- Load Dataset. Load the dataset from the specified file path.\n",
    "- Define Features and Target. Specify the columns to be used as features (X_columns) and the target variable (y_column).\n",
    "- Split Dataset. Use train_test_split to split the dataset into training and testing sets. Here, 80% of the data is used for training (train_size=0.8).\n",
    "- Output Information. Print the shapes of the training and testing sets to check the size of the splits.\n",
    "Write to CSV: Save the training and testing sets to CSV files at the specified file paths."
   ]
  },
  {
   "cell_type": "code",
   "execution_count": 1,
   "metadata": {},
   "outputs": [],
   "source": [
    "# import necessary libraries for i/o and split data\n",
    "import pandas as pd\n",
    "from sklearn.model_selection import train_test_split"
   ]
  },
  {
   "cell_type": "code",
   "execution_count": null,
   "metadata": {},
   "outputs": [],
   "source": [
    "# define file paths\n",
    "data_file_path = \"D:/programming/information-technologies-of-smart-systems/calculation-and-graphic work/personal-medical-insurance-cost-prediction/data/insurance.csv\"\n",
    "train_data_file_path = \"D:/programming/information-technologies-of-smart-systems/calculation-and-graphic work/personal-medical-insurance-cost-prediction/data/final/train_data.csv\"\n",
    "new_data_file_path = \"D:/programming/information-technologies-of-smart-systems/calculation-and-graphic work/personal-medical-insurance-cost-prediction/data/final/new_data.csv\""
   ]
  },
  {
   "cell_type": "code",
   "execution_count": 2,
   "metadata": {},
   "outputs": [],
   "source": [
    "# read the whole dataset from a CSV file\n",
    "ds = pd.read_csv(data_file_path)"
   ]
  },
  {
   "cell_type": "code",
   "execution_count": 3,
   "metadata": {},
   "outputs": [],
   "source": [
    "y_column = ['charges'] # target variable\n",
    "X_columns = ['age', 'bmi', 'children', 'smoker', 'sex', 'region']   # define the feature columns"
   ]
  },
  {
   "cell_type": "code",
   "execution_count": 4,
   "metadata": {},
   "outputs": [],
   "source": [
    "# split the dataset into training and testing sets\n",
    "X_train, X_test = train_test_split(ds, train_size=0.8)"
   ]
  },
  {
   "cell_type": "code",
   "execution_count": 5,
   "metadata": {},
   "outputs": [
    {
     "data": {
      "text/plain": [
       "(1070, 7)"
      ]
     },
     "execution_count": 5,
     "metadata": {},
     "output_type": "execute_result"
    }
   ],
   "source": [
    "# output the shape of the training set\n",
    "print(\"Training set shape:\", X_train.shape)"
   ]
  },
  {
   "cell_type": "code",
   "execution_count": 6,
   "metadata": {},
   "outputs": [],
   "source": [
    "# save the training data to a CSV file\n",
    "X_train.to_csv(train_data_file_path, index=False)"
   ]
  },
  {
   "cell_type": "code",
   "execution_count": 7,
   "metadata": {},
   "outputs": [
    {
     "data": {
      "text/plain": [
       "(268, 7)"
      ]
     },
     "execution_count": 7,
     "metadata": {},
     "output_type": "execute_result"
    }
   ],
   "source": [
    "# output the shape of the testing set\n",
    "print(\"Testing set shape:\", X_test.shape)"
   ]
  },
  {
   "cell_type": "code",
   "execution_count": 8,
   "metadata": {},
   "outputs": [],
   "source": [
    "# save the testing data to a CSV file (with only selected feature columns)\n",
    "X_test[X_columns].to_csv(new_data_file_path, index=False)"
   ]
  }
 ],
 "metadata": {
  "kernelspec": {
   "display_name": "Python 3",
   "language": "python",
   "name": "python3"
  },
  "language_info": {
   "codemirror_mode": {
    "name": "ipython",
    "version": 3
   },
   "file_extension": ".py",
   "mimetype": "text/x-python",
   "name": "python",
   "nbconvert_exporter": "python",
   "pygments_lexer": "ipython3",
   "version": "3.11.5"
  }
 },
 "nbformat": 4,
 "nbformat_minor": 2
}
